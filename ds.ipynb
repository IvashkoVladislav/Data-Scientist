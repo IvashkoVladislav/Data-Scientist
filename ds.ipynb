{
  "metadata": {
    "kernelspec": {
      "name": "python",
      "display_name": "Python (Pyodide)",
      "language": "python"
    },
    "language_info": {
      "codemirror_mode": {
        "name": "python",
        "version": 3
      },
      "file_extension": ".py",
      "mimetype": "text/x-python",
      "name": "python",
      "nbconvert_exporter": "python",
      "pygments_lexer": "ipython3",
      "version": "3.8"
    }
  },
  "nbformat_minor": 4,
  "nbformat": 4,
  "cells": [
    {
      "cell_type": "markdown",
      "source": "Data Science Tools and Ecosystem",
      "metadata": {}
    },
    {
      "cell_type": "markdown",
      "source": "In this notebook, Data Science Tools and Ecosystem are summarized.\n",
      "metadata": {}
    },
    {
      "cell_type": "markdown",
      "source": "#### Objectives:\n* Some of the popular languages that Data Scientists\n* Some of the commonly used libraries used by Data Scientists \n* Data Science Tools\n* A few examples of evaluating arithmetic expressions in Python",
      "metadata": {}
    },
    {
      "cell_type": "markdown",
      "source": "#### Some of the popular languages that Data Scientists use are:\n* Python\n* Julia\n* R\n* Apache\n* Spark",
      "metadata": {}
    },
    {
      "cell_type": "markdown",
      "source": "#### Some of the commonly used libraries used by Data Scientists include:\n* skikit learn\n* TensorFlow\n* PyTorch\n* Scikit-learn\n* Requests\n* Keras\n* Seaborn\n* Plotly\n* NLTK",
      "metadata": {}
    },
    {
      "cell_type": "markdown",
      "source": "#### Data Science Tools\n* Apache Spark\n* Apache Hadoop\n* JupiterLab\n* TensorFlow",
      "metadata": {}
    },
    {
      "cell_type": "markdown",
      "source": "#### Below are a few examples of evaluating arithmetic expressions in Python.\n* Addition (+)\n* Subtraction (-)\n* Multiplication (*)\n* Division (/)\n* Modulus (%), which returns the remainder of a division operation\n* Exponentiation (**), which raises a number to a specified power",
      "metadata": {}
    },
    {
      "cell_type": "code",
      "source": "# This a simple arithmetic expression to mutiply then add integers\n(3*4)+5",
      "metadata": {
        "trusted": true
      },
      "outputs": [
        {
          "execution_count": 2,
          "output_type": "execute_result",
          "data": {
            "text/plain": "17"
          },
          "metadata": {}
        }
      ],
      "execution_count": 2
    },
    {
      "cell_type": "code",
      "source": "# This will convert 200 minutes to hours by diving by 60\ndef MintoHours (minutes):\n    hours = minutes / 60\n    return hours \n\nMintoHours (200)",
      "metadata": {
        "trusted": true
      },
      "outputs": [
        {
          "execution_count": 3,
          "output_type": "execute_result",
          "data": {
            "text/plain": "3.3333333333333335"
          },
          "metadata": {}
        }
      ],
      "execution_count": 3
    },
    {
      "cell_type": "markdown",
      "source": "#### Author \nUladzislau Ivashka ",
      "metadata": {}
    },
    {
      "cell_type": "code",
      "source": "",
      "metadata": {
        "trusted": true
      },
      "outputs": [],
      "execution_count": null
    }
  ]
}